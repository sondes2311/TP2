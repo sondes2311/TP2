{
 "cells": [
  {
   "cell_type": "markdown",
   "id": "47bc5972",
   "metadata": {},
   "source": [
    "# Jeux Python : Corrigez les erreurs :)"
   ]
  },
  {
   "cell_type": "code",
   "execution_count": null,
   "id": "f48377ea",
   "metadata": {},
   "outputs": [],
   "source": [
    "num1 = 10\n",
    "num2 = \"20\"  \n",
    "#num3 = 15 \n",
    "\n",
    "x = num1 + num2  \n",
    "print x  "
   ]
  },
  {
   "cell_type": "code",
   "execution_count": null,
   "id": "7292f813",
   "metadata": {},
   "outputs": [],
   "source": [
    "y = num2*2 \\\\Ceci est un commentaire: y = 2020 "
   ]
  },
  {
   "cell_type": "code",
   "execution_count": null,
   "id": "709dfc75",
   "metadata": {},
   "outputs": [],
   "source": [
    "if y==2020:\n",
    "    print(True)\n",
    "else:\n",
    "    print(false) "
   ]
  },
  {
   "cell_type": "code",
   "execution_count": null,
   "id": "7f9b5128",
   "metadata": {},
   "outputs": [],
   "source": [
    "z = x + num3 \n",
    "z+=5\n",
    "\n",
    "def addition(a, b):\n",
    "    result = a + b\n",
    "    return result"
   ]
  },
  {
   "cell_type": "code",
   "execution_count": null,
   "id": "37f3f32f",
   "metadata": {},
   "outputs": [],
   "source": [
    "n := input(\"Entrez un nombre: \", n)  \n",
    "printf(f\"Vous avez entré: {n}\")  \n",
    "print(\"Si j'ajoute 1 à n, j'obtient : %d\"%(n+1)) "
   ]
  },
  {
   "cell_type": "code",
   "execution_count": null,
   "id": "6531eea0",
   "metadata": {},
   "outputs": [],
   "source": [
    "numbers = [1, 2, 3, 4, 5]\n",
    "print(\"Liste originale:\", number)\n",
    "\n",
    "coordinates = (10, 20)\n",
    "print(\"Coordonnées:\", coordinates[2])  "
   ]
  },
  {
   "cell_type": "code",
   "execution_count": null,
   "id": "48de692a",
   "metadata": {},
   "outputs": [],
   "source": [
    "numbers.append(6)\n",
    "print(f\"Liste après ajout: {number}\") "
   ]
  },
  {
   "cell_type": "code",
   "execution_count": null,
   "id": "d0690db1",
   "metadata": {},
   "outputs": [],
   "source": [
    "coordinates.append(30)  \n",
    "print(COORDINATES) "
   ]
  },
  {
   "cell_type": "code",
   "execution_count": null,
   "id": "8ba79701",
   "metadata": {},
   "outputs": [],
   "source": [
    "total = addition(num1)  \n",
    "print('La somme est:', total)"
   ]
  },
  {
   "cell_type": "code",
   "execution_count": null,
   "id": "3bc87a8f",
   "metadata": {},
   "outputs": [],
   "source": [
    "for i in range(lenght(numbers)):  \n",
    "print(\"Élément\", i, \":\", numbers[i]) "
   ]
  },
  {
   "cell_type": "code",
   "execution_count": null,
   "id": "d02c754d",
   "metadata": {},
   "outputs": [],
   "source": [
    "if numbers[1] = 2: \n",
    "    print(true) \n",
    "else   \n",
    "    print(False)"
   ]
  }
 ],
 "metadata": {
  "kernelspec": {
   "display_name": "Python 3 (ipykernel)",
   "language": "python",
   "name": "python3"
  },
  "language_info": {
   "codemirror_mode": {
    "name": "ipython",
    "version": 3
   },
   "file_extension": ".py",
   "mimetype": "text/x-python",
   "name": "python",
   "nbconvert_exporter": "python",
   "pygments_lexer": "ipython3",
   "version": "3.9.13"
  }
 },
 "nbformat": 4,
 "nbformat_minor": 5
}
